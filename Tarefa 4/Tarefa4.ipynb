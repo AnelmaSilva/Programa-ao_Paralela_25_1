{
  "nbformat": 4,
  "nbformat_minor": 0,
  "metadata": {
    "colab": {
      "provenance": []
    },
    "kernelspec": {
      "name": "python3",
      "display_name": "Python 3"
    },
    "language_info": {
      "name": "python"
    }
  },
  "cells": [
    {
      "cell_type": "code",
      "execution_count": 2,
      "metadata": {
        "colab": {
          "base_uri": "https://localhost:8080/"
        },
        "id": "BV6H4Ge9rH2Y",
        "outputId": "fde43797-f748-43f8-ec67-9c9495f47e25"
      },
      "outputs": [
        {
          "output_type": "stream",
          "name": "stdout",
          "text": [
            "Gráficos gerados com sucesso em 'desempenho_threads.png'\n"
          ]
        }
      ],
      "source": [
        "import pandas as pd\n",
        "import matplotlib.pyplot as plt\n",
        "import seaborn as sns\n",
        "\n",
        "# Configuração do estilo dos gráficos\n",
        "sns.set(style=\"whitegrid\")\n",
        "plt.figure(figsize=(12, 6))\n",
        "\n",
        "# Carrega os dados do arquivo CSV\n",
        "try:\n",
        "    dados = pd.read_csv(\"dados_desempenho.csv\")\n",
        "except FileNotFoundError:\n",
        "    print(\"Arquivo 'dados_desempenho.csv' não encontrado!\")\n",
        "    print(\"Execute primeiro o programa em C para gerar os dados.\")\n",
        "    exit()\n",
        "\n",
        "# Gráfico 1: Desempenho da operação de memória\n",
        "plt.subplot(1, 2, 1)\n",
        "sns.lineplot(data=dados, x=\"Threads\", y=\"Tempo_Memoria\", marker='o', color='blue')\n",
        "plt.title(\"Desempenho - Operação Limitada por Memória\")\n",
        "plt.xlabel(\"Número de Threads\")\n",
        "plt.ylabel(\"Tempo (segundos)\")\n",
        "plt.ylim(bottom=0)  # Eixo y começa em 0\n",
        "\n",
        "# Gráfico 2: Desempenho da operação de CPU\n",
        "plt.subplot(1, 2, 2)\n",
        "sns.lineplot(data=dados, x=\"Threads\", y=\"Tempo_CPU\", marker='o', color='red')\n",
        "plt.title(\"Desempenho - Operação Limitada por CPU\")\n",
        "plt.xlabel(\"Número de Threads\")\n",
        "plt.ylabel(\"Tempo (segundos)\")\n",
        "plt.ylim(bottom=0)  # Eixo y começa em 0\n",
        "\n",
        "# Ajusta layout e salva a figura\n",
        "plt.tight_layout()\n",
        "plt.savefig(\"desempenho_threads.png\", dpi=300)\n",
        "plt.close()\n",
        "\n",
        "print(\"Gráficos gerados com sucesso em 'desempenho_threads.png'\")"
      ]
    }
  ]
}